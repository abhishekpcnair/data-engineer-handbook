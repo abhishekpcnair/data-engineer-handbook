{
 "cells": [
  {
   "cell_type": "code",
   "execution_count": 31,
   "id": "f5d1b62f-968c-4dda-94b8-4abc975859a0",
   "metadata": {},
   "outputs": [],
   "source": [
    "from pyspark.sql.types import StructType, StructField, StringType, ArrayType, FloatType, BooleanType, IntegerType"
   ]
  },
  {
   "cell_type": "code",
   "execution_count": 1,
   "id": "c61d38e1-ddc1-46ea-b70f-e80bec47bb1c",
   "metadata": {},
   "outputs": [
    {
     "name": "stderr",
     "output_type": "stream",
     "text": [
      "25/08/24 19:16:55 WARN SparkSession: Using an existing Spark session; only runtime SQL configurations will take effect.\n"
     ]
    }
   ],
   "source": [
    "from pyspark.sql import SparkSession\n",
    "from pyspark.sql.functions import expr, col\n",
    "spark = SparkSession.builder.appName(\"Jupyter\").getOrCreate()"
   ]
  },
  {
   "cell_type": "code",
   "execution_count": 24,
   "id": "20089de6-bd81-4dcf-8cca-cdb7adb3a66e",
   "metadata": {},
   "outputs": [],
   "source": [
    "columns = [\"actor\", \"actorid\", \"film\", \"year\", \"votes\", \"rating\", \"filmid\"]"
   ]
  },
  {
   "cell_type": "code",
   "execution_count": 25,
   "id": "735a8e6b-99af-43c0-98ec-51df8dfe0623",
   "metadata": {},
   "outputs": [],
   "source": [
    "actor_film = spark.read.option(\"header\", \"false\").csv(\"/home/iceberg/data/actor_films.csv\")\n",
    "actor_film = actor_film.toDF(*columns)\n",
    "actor_film.createOrReplaceTempView('actor_films')"
   ]
  },
  {
   "cell_type": "code",
   "execution_count": 26,
   "id": "34d5a0c1-d4c1-42f2-9721-f3f3af7ed3f5",
   "metadata": {},
   "outputs": [
    {
     "data": {
      "text/plain": [
       "DataFrame[actor: string, actorid: string, film: string, year: string, votes: string, rating: string, filmid: string]"
      ]
     },
     "execution_count": 26,
     "metadata": {},
     "output_type": "execute_result"
    }
   ],
   "source": [
    "actor_film"
   ]
  },
  {
   "cell_type": "code",
   "execution_count": 27,
   "id": "0ff5c545-b985-435e-8192-94ec6e3ca154",
   "metadata": {},
   "outputs": [
    {
     "name": "stdout",
     "output_type": "stream",
     "text": [
      "root\n",
      " |-- actor: string (nullable = true)\n",
      " |-- actorid: string (nullable = true)\n",
      " |-- film: string (nullable = true)\n",
      " |-- year: string (nullable = true)\n",
      " |-- votes: string (nullable = true)\n",
      " |-- rating: string (nullable = true)\n",
      " |-- filmid: string (nullable = true)\n",
      "\n"
     ]
    }
   ],
   "source": [
    "actor_film.printSchema()"
   ]
  },
  {
   "cell_type": "code",
   "execution_count": 32,
   "id": "747a1963-541d-4ddd-87e8-89c09e9d0cb4",
   "metadata": {},
   "outputs": [],
   "source": [
    "schema = StructType([\n",
    "    StructField(\"actorid\", StringType(), True),\n",
    "    StructField(\"actor\", StringType(), True),\n",
    "    StructField(\"films\", ArrayType(\n",
    "        StructType([\n",
    "            StructField(\"film\", StringType(), True),\n",
    "            StructField(\"votes\", IntegerType(), True),\n",
    "            StructField(\"rating\", FloatType(), True),\n",
    "            StructField(\"filmid\", StringType(), True)\n",
    "        ])\n",
    "    ), True),\n",
    "    StructField(\"quality_class\", StringType(), True),\n",
    "    StructField(\"is_active\", BooleanType(), True),\n",
    "    StructField(\"current_year\", IntegerType(), True)\n",
    "])"
   ]
  },
  {
   "cell_type": "code",
   "execution_count": 33,
   "id": "d6861faf-d0dd-499c-933e-b8ecdd091d11",
   "metadata": {},
   "outputs": [],
   "source": [
    "empty_actors_df = spark.createDataFrame([], schema)"
   ]
  },
  {
   "cell_type": "code",
   "execution_count": 34,
   "id": "89925faf-2919-4ac1-aae8-c73d0c0ea122",
   "metadata": {},
   "outputs": [],
   "source": [
    "empty_actors_df.createOrReplaceTempView(\"actors\")"
   ]
  },
  {
   "cell_type": "code",
   "execution_count": 35,
   "id": "b88612a2-87ec-4db2-9c8f-404e9611afaa",
   "metadata": {},
   "outputs": [],
   "source": [
    "query = \"\"\"\n",
    "WITH yesterday AS (\n",
    "    SELECT *\n",
    "    FROM actors\n",
    "    WHERE current_year = 1973\n",
    "),\n",
    "today AS (\n",
    "    SELECT\n",
    "        actorid,\n",
    "        actor,\n",
    "        year,\n",
    "        COLLECT_LIST(\n",
    "            STRUCT(\n",
    "                film,\n",
    "                votes,\n",
    "                rating,\n",
    "                filmid\n",
    "            )\n",
    "        ) AS films,\n",
    "        AVG(rating) AS avg_rating\n",
    "    FROM actor_films\n",
    "    WHERE year = 1974\n",
    "    GROUP BY actorid, actor, year\n",
    "),\n",
    "final_data AS (\n",
    "    SELECT\n",
    "        COALESCE(t.actorid, y.actorid) AS actorid,\n",
    "        COALESCE(t.actor, y.actor) AS actor,\n",
    "\n",
    "        -- merge yesterday’s films with today’s (if any)\n",
    "        CONCAT(\n",
    "            COALESCE(y.films, ARRAY()), \n",
    "            COALESCE(t.films, ARRAY())\n",
    "        ) AS films,\n",
    "\n",
    "        -- quality_class comes from *this year’s avg rating* if active,\n",
    "        -- otherwise keep last year's value\n",
    "        CASE\n",
    "            WHEN t.year IS NOT NULL THEN\n",
    "                CASE\n",
    "                    WHEN t.avg_rating > 8 THEN 'star'\n",
    "                    WHEN t.avg_rating > 7 THEN 'good'\n",
    "                    WHEN t.avg_rating > 6 THEN 'average'\n",
    "                    ELSE 'bad'\n",
    "                END\n",
    "            ELSE y.quality_class\n",
    "        END AS quality_class,\n",
    "\n",
    "        -- active if in today’s data\n",
    "        (t.year IS NOT NULL) AS is_active,\n",
    "\n",
    "        -- carry forward year correctly\n",
    "        COALESCE(t.year, y.current_year + 1) AS current_year\n",
    "    FROM today t\n",
    "    FULL OUTER JOIN yesterday y\n",
    "        ON t.actorid = y.actorid\n",
    ")\n",
    "\n",
    "SELECT\n",
    "    actorid,\n",
    "    actor,\n",
    "    films,\n",
    "    quality_class,\n",
    "    is_active,\n",
    "    current_year\n",
    "FROM final_data\n",
    "\"\"\""
   ]
  },
  {
   "cell_type": "code",
   "execution_count": 36,
   "id": "4d19c58e-efe0-48da-9f60-e5f18cec19ad",
   "metadata": {},
   "outputs": [],
   "source": [
    "result_df = spark.sql(query)"
   ]
  },
  {
   "cell_type": "code",
   "execution_count": 39,
   "id": "48b06a79-d36a-4500-a822-f3fcdad3bfa0",
   "metadata": {},
   "outputs": [
    {
     "name": "stderr",
     "output_type": "stream",
     "text": [
      "                                                                                "
     ]
    },
    {
     "data": {
      "text/plain": [
       "537"
      ]
     },
     "execution_count": 39,
     "metadata": {},
     "output_type": "execute_result"
    }
   ],
   "source": [
    "result_df.count()"
   ]
  },
  {
   "cell_type": "code",
   "execution_count": null,
   "id": "f697ba83-bdf7-40f1-9790-8ad52e85f72f",
   "metadata": {},
   "outputs": [],
   "source": []
  }
 ],
 "metadata": {
  "kernelspec": {
   "display_name": "Python 3 (ipykernel)",
   "language": "python",
   "name": "python3"
  },
  "language_info": {
   "codemirror_mode": {
    "name": "ipython",
    "version": 3
   },
   "file_extension": ".py",
   "mimetype": "text/x-python",
   "name": "python",
   "nbconvert_exporter": "python",
   "pygments_lexer": "ipython3",
   "version": "3.10.16"
  }
 },
 "nbformat": 4,
 "nbformat_minor": 5
}
